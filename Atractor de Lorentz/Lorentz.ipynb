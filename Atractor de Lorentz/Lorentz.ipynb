{
 "cells": [
  {
   "cell_type": "code",
   "execution_count": 1,
   "id": "c9744ffc-2253-4309-9d19-7bf11646651c",
   "metadata": {},
   "outputs": [
    {
     "name": "stdout",
     "output_type": "stream",
     "text": [
      "Requirement already satisfied: scipy in c:\\users\\david\\.pyenv\\pyenv-win\\versions\\3.10.11\\lib\\site-packages (1.11.2)\n",
      "Requirement already satisfied: numpy<1.28.0,>=1.21.6 in c:\\users\\david\\.pyenv\\pyenv-win\\versions\\3.10.11\\lib\\site-packages (from scipy) (1.25.2)\n",
      "Note: you may need to restart the kernel to use updated packages.\n",
      "Requirement already satisfied: Pillow in c:\\users\\david\\.pyenv\\pyenv-win\\versions\\3.10.11\\lib\\site-packages (10.0.0)Note: you may need to restart the kernel to use updated packages.\n",
      "\n"
     ]
    }
   ],
   "source": [
    "%pip install scipy\n",
    "%pip install Pillow"
   ]
  },
  {
   "cell_type": "code",
   "execution_count": 2,
   "id": "0209bfcb-2c05-45f6-9917-10aaf38e180d",
   "metadata": {},
   "outputs": [],
   "source": [
    "%matplotlib inline\n",
    "import numpy as np, matplotlib.pyplot as plt, os\n",
    "from scipy.integrate import odeint\n",
    "from mpl_toolkits.mplot3d.axes3d import Axes3D\n",
    "\n",
    "# Estado inicial del sistema\n",
    "initial_state = [0.1, 0, 0]\n",
    "\n",
    "# Parámetros del sistema\n",
    "sigma = 10.\n",
    "rho   = 28.\n",
    "beta  = 8./3.\n",
    "\n",
    "start_time = 1\n",
    "end_time = 60\n",
    "interval = 500\n",
    "time_points = np.linspace(start_time, end_time, end_time * interval)\n",
    "\n",
    "# Definir el sistema\n",
    "def lorenz_system(current_state, t):\n",
    "    x, y, z = current_state\n",
    "    dx_dt = sigma * (y - x)\n",
    "    dy_dt = x * (rho - z) - y\n",
    "    dz_dt = x * y - beta * z\n",
    "    return [dx_dt, dy_dt, dz_dt]\n",
    "\n",
    "points = odeint(lorenz_system, initial_state, time_points)\n",
    "\n",
    "def plot_lorenz(xyz, filename):\n",
    "    fig = plt.figure(figsize=(12, 9))\n",
    "    ax = fig.add_subplot(111, projection='3d')\n",
    "\n",
    "    # Figura transparente\n",
    "    fig.patch.set_alpha(0)\n",
    "    ax.patch.set_alpha(0)\n",
    "\n",
    "    ax.xaxis.set_pane_color((1,1,1,1))\n",
    "    ax.yaxis.set_pane_color((1,1,1,1))\n",
    "    ax.zaxis.set_pane_color((1,1,1,1))\n",
    "    x = xyz[:, 0]\n",
    "    y = xyz[:, 1]\n",
    "    z = xyz[:, 2]\n",
    "    ax.plot(x, y, z, color='k', alpha=0.7, linewidth=0.9, antialiased=True)\n",
    "    ax.set_xticks([])\n",
    "    ax.set_yticks([])\n",
    "    ax.set_zticks([])\n",
    "    ax.axis('off')\n",
    "\n",
    "    # Establecer formato y transparencia al momento de guardar\n",
    "    plt.savefig(filename, format='svg', transparent=True)\n",
    "    plt.close()\n",
    "\n",
    "output_filename = 'final_lorenz_attractor.svg'\n",
    "plot_lorenz(points, output_filename)"
   ]
  }
 ],
 "metadata": {
  "kernelspec": {
   "display_name": "Python 3 (ipykernel)",
   "language": "python",
   "name": "python3"
  },
  "language_info": {
   "codemirror_mode": {
    "name": "ipython",
    "version": 3
   },
   "file_extension": ".py",
   "mimetype": "text/x-python",
   "name": "python",
   "nbconvert_exporter": "python",
   "pygments_lexer": "ipython3",
   "version": "3.10.11"
  }
 },
 "nbformat": 4,
 "nbformat_minor": 5
}
