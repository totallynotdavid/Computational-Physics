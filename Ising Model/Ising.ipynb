{
 "cells": [
  {
   "cell_type": "markdown",
   "metadata": {},
   "source": [
    "# Modelo de Ising en 3D\n",
    "\n",
    "Autor: David Duran<br>\n",
    "Año: 2023"
   ]
  },
  {
   "cell_type": "code",
   "execution_count": null,
   "metadata": {},
   "outputs": [],
   "source": [
    "# Importar paquetes\n",
    "import numpy as np\n",
    "import matplotlib.pyplot as plt\n",
    "import numba\n",
    "from numba import njit\n",
    "from mayavi import mlab"
   ]
  },
  {
   "cell_type": "code",
   "execution_count": null,
   "metadata": {},
   "outputs": [],
   "source": [
    "# Lattice\n",
    "tamaño_red = 20\n",
    "\n",
    "# Red tridimensional\n",
    "rejilla = np.random.choice([-1, 1], size=(tamaño_red, tamaño_red, tamaño_red))"
   ]
  },
  {
   "cell_type": "code",
   "execution_count": null,
   "metadata": {},
   "outputs": [],
   "source": [
    "# Algoritmo de Metropolis para la red 3D\n",
    "@numba.njit(\"UniTuple(f8[:], 2)(i8[:,:,:], i8, f8, f8)\", nogil=True)\n",
    "def metropolis(rejilla, pasos, BJ, energia):\n",
    "    # Copiar la rejilla para no modificar la original\n",
    "    rejilla = rejilla.copy()\n",
    "\n",
    "    # Crear arreglos para almacenar la magnetización y la energía\n",
    "    magnetizacion = np.zeros(pasos - 1)\n",
    "    energia_total = np.zeros(pasos - 1)\n",
    "\n",
    "    # Bucle para actualizar la rejilla (loop to update the lattice)\n",
    "    for t in range(0, pasos - 1):\n",
    "        # Seleccionar un punto aleatorio en la rejilla y cambiar el spin\n",
    "        x = np.random.randint(0, tamaño_red)\n",
    "        y = np.random.randint(0, tamaño_red)\n",
    "        z = np.random.randint(0, tamaño_red)\n",
    "\n",
    "        spin_inicial = rejilla[x, y, z]\n",
    "        spin_propuesto = spin_inicial * -1\n",
    "\n",
    "        # Calcular el cambio de energía\n",
    "        energia_inicial = 0\n",
    "        energia_final = 0\n",
    "        vecinos = [\n",
    "            (x - 1, y, z), (x + 1, y, z),\n",
    "            (x, y - 1, z), (x, y + 1, z),\n",
    "            (x, y, z - 1), (x, y, z + 1)\n",
    "        ]\n",
    "        for nx, ny, nz in vecinos:\n",
    "            if 0 <= nx < tamaño_red and 0 <= ny < tamaño_red and 0 <= nz < tamaño_red:\n",
    "                energia_inicial += -spin_inicial * rejilla[nx, ny, nz]\n",
    "                energia_final += -spin_propuesto * rejilla[nx, ny, nz]\n",
    "\n",
    "        # Actualizar el estado con las probabilidades designadas\n",
    "        delta_energia = energia_final - energia_inicial\n",
    "        if (delta_energia > 0) * (np.random.random() < np.exp(-BJ * delta_energia)):\n",
    "            rejilla[x, y, z] = spin_propuesto\n",
    "            energia += delta_energia\n",
    "        elif delta_energia <= 0:\n",
    "            rejilla[x, y, z] = spin_propuesto\n",
    "            energia += delta_energia\n",
    "\n",
    "        # Actualizar la magnetización y la energía total\n",
    "        magnetizacion[t] = rejilla.sum()\n",
    "        energia_total[t] = energia\n",
    "\n",
    "    return magnetizacion, energia_total"
   ]
  },
  {
   "cell_type": "code",
   "execution_count": null,
   "metadata": {},
   "outputs": [],
   "source": [
    "# Ejecutar la simulación\n",
    "# magnetizacion, energia_total = metropolis(rejilla, 100000, 0.2, 0)\n",
    "magnetizacion, energia_total = metropolis(rejilla.astype(np.int64), 100000, 0.2, 0)\n",
    "\n",
    "# Graficar la magnetización y la energía total\n",
    "fig, ejes = plt.subplots(1, 2, figsize=(12, 4))\n",
    "eje = ejes[0]\n",
    "eje.plot(magnetizacion / tamaño_red ** 3)\n",
    "eje.set_xlabel('Pasos del algoritmo')\n",
    "eje.set_ylabel('Magnetización promedio')\n",
    "eje.grid()\n",
    "\n",
    "eje = ejes[1]\n",
    "eje.plot(energia_total)\n",
    "eje.set_xlabel('Pasos del algoritmo')\n",
    "eje.set_ylabel('Energía')\n",
    "eje.grid()\n",
    "\n",
    "fig.tight_layout()\n",
    "fig.suptitle('Evolución de la magnetización promedio y la energía', y=1.07, size=18)\n",
    "plt.show()"
   ]
  },
  {
   "cell_type": "code",
   "execution_count": null,
   "metadata": {},
   "outputs": [],
   "source": [
    "# %pip install mayavi\n",
    "# %pip install pyqt5"
   ]
  },
  {
   "cell_type": "code",
   "execution_count": null,
   "metadata": {},
   "outputs": [],
   "source": [
    "def visualize_spins(lattice):\n",
    "    mlab.figure(bgcolor=(1, 1, 1))\n",
    "\n",
    "    for i in range(lattice.shape[0]):\n",
    "        for j in range(lattice.shape[1]):\n",
    "            for k in range(lattice.shape[2]):\n",
    "                spin = lattice[i, j, k]\n",
    "                color = (0, 0, 1) if spin == 1 else (1, 0, 0)\n",
    "                mlab.quiver3d(i, j, k, 0, 0, spin, color=color, mode='arrow', scale_factor=0.5)\n",
    "\n",
    "    mlab.show()\n",
    "\n",
    "visualize_spins(rejilla)"
   ]
  },
  {
   "cell_type": "code",
   "execution_count": null,
   "metadata": {},
   "outputs": [],
   "source": [
    "def simulate_and_visualize(rejilla, pasos, BJ, energia, visualization_interval=1000):\n",
    "    for _ in range(pasos // visualization_interval):\n",
    "        magnetizacion, energia_total = metropolis(rejilla, visualization_interval, BJ, energia)\n",
    "        visualize_spins(rejilla)\n",
    "\n",
    "simulate_and_visualize(rejilla, 100000, 0.2, 0, visualization_interval=1000)"
   ]
  }
 ],
 "metadata": {
  "kernelspec": {
   "display_name": "Python 3 (ipykernel)",
   "language": "python",
   "name": "python3"
  },
  "language_info": {
   "codemirror_mode": {
    "name": "ipython",
    "version": 3
   },
   "file_extension": ".py",
   "mimetype": "text/x-python",
   "name": "python",
   "nbconvert_exporter": "python",
   "pygments_lexer": "ipython3",
   "version": "3.10.9"
  }
 },
 "nbformat": 4,
 "nbformat_minor": 2
}
